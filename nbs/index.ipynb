{
 "cells": [
  {
   "cell_type": "code",
   "execution_count": null,
   "metadata": {},
   "outputs": [],
   "source": [
    "#| hide\n",
    "from vangoghviz.core import *"
   ]
  },
  {
   "cell_type": "markdown",
   "metadata": {},
   "source": [
    "# vangoghviz\n",
    "\n",
    "> Show how Decision Trees work by compressing an image in different color spaces with different max depths.\n"
   ]
  },
  {
   "cell_type": "markdown",
   "metadata": {},
   "source": [
    "\n",
    "<div style=\"display: flex; justify-content: center;\">\n",
    "<img src=\"output_gifs/animated_bw.gif\" width=\"30%\" /> <img src=\"output_gifs/animated_rgb.gif\" width=\"30%\" /> <img src=\"output_gifs/animated_hsv.gif\" width=\"30%\" /> \n",
    "</div>"
   ]
  }
 ],
 "metadata": {
  "kernelspec": {
   "display_name": "python3",
   "language": "python",
   "name": "python3"
  }
 },
 "nbformat": 4,
 "nbformat_minor": 4
}
