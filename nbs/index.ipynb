{
 "cells": [
  {
   "cell_type": "code",
   "execution_count": null,
   "metadata": {},
   "outputs": [],
   "source": [
    "#| hide\n",
    "from vangoghviz.core import *"
   ]
  },
  {
   "cell_type": "markdown",
   "metadata": {},
   "source": [
    "# vangoghviz\n",
    "\n",
    "> Show how Decision Trees work on an image in different color spaces.\n",
    "\n",
    "<img src=\"images/animated_comparison_rgb_hsv.gif\" alt=\"Animated comparison of RGB and HSV color spaces\" width=\"80%\">"
   ]
  }
 ],
 "metadata": {
  "kernelspec": {
   "display_name": "python3",
   "language": "python",
   "name": "python3"
  }
 },
 "nbformat": 4,
 "nbformat_minor": 4
}
